{
  "nbformat": 4,
  "nbformat_minor": 0,
  "metadata": {
    "colab": {
      "name": "Clustering_DistortedMetric.ipynb",
      "provenance": [],
      "collapsed_sections": [],
      "toc_visible": true,
      "authorship_tag": "ABX9TyMOTZhjg6MHz8/okYe+zaHK",
      "include_colab_link": true
    },
    "kernelspec": {
      "name": "python3",
      "display_name": "Python 3"
    }
  },
  "cells": [
    {
      "cell_type": "markdown",
      "metadata": {
        "id": "view-in-github",
        "colab_type": "text"
      },
      "source": [
        "<a href=\"https://colab.research.google.com/github/maciejskorski/distorted_clustering/blob/main/Clustering_DistortedMetric.ipynb\" target=\"_parent\"><img src=\"https://colab.research.google.com/assets/colab-badge.svg\" alt=\"Open In Colab\"/></a>"
      ]
    },
    {
      "cell_type": "markdown",
      "metadata": {
        "id": "dl8WB-phuGlj"
      },
      "source": [
        "# Summary\n",
        "\n",
        "This notebook demonstrates how to cluster under distorted metrics, like the huber-like loss functions. Such metrics have been recently shown to be statistically more robust and accuracte for various machine learning tasks (see the paper by Google https://arxiv.org/abs/1701.03077)\n",
        "\n",
        "Unfortunately, fitting such models is harder than for KMeans, and is not supported in off-the-shell software, such as scikitlearn. \n",
        "\n",
        "This notebook offers a Tensorflow implementation along with examples on real-world data."
      ]
    },
    {
      "cell_type": "markdown",
      "metadata": {
        "id": "LgnS4Eb2xmFe"
      },
      "source": [
        "# Model\n",
        "\n",
        "We use the Expectation-Maximization algorithm (EM). The idea is essentially as in the case of KMeans; however KMeans works under the euclidean distance and allows for solving the M step analytically. In our case we resort to generic (gradient-based) optimization."
      ]
    },
    {
      "cell_type": "code",
      "metadata": {
        "colab": {
          "base_uri": "https://localhost:8080/"
        },
        "id": "cJ2IHGhwuAfM",
        "outputId": "9ce8a019-c09e-4b8f-f053-bb6ab3acf2b2"
      },
      "source": [
        "### Tensorflow Model\n",
        "\n",
        "%tensorflow_version 1.x\n",
        "import tensorflow as tf\n",
        "\n",
        "def logp_huber(scale=1):\n",
        "\n",
        "  def logp_huber(x):\n",
        "    return -scale**2*((1+tf.square(x/scale))**0.5-1)\n",
        "  \n",
        "  return logp_huber\n",
        "\n",
        "def logp_euclidean():\n",
        "\n",
        "  def logp_euclidean(x):\n",
        "    return -tf.square(x)\n",
        "\n",
        "  return logp_euclidean\n",
        "\n",
        "def build_cluster_graph(data_shape,n_clusters,logp_func=logp_euclidean,init=None):\n",
        "\n",
        "  ## model variables \n",
        "\n",
        "  n_rows,n_features = data_shape\n",
        "  X_t = tf.placeholder(tf.float32,shape=[n_rows,n_features]) # data\n",
        "  y_logp = tf.Variable(tf.log(tf.ones(shape=[n_rows,n_clusters])/n_features),trainable=False) # class predictions, updated by Bayes rules\n",
        "  sigmas = tf.ones(shape=[n_features]) # standard deviations: here fixed\n",
        "  if init is None:\n",
        "    init = tf.random.normal(shape=[n_clusters,n_features])\n",
        "  centers = tf.Variable(init,trainable=True) # centers: trainable\n",
        "\n",
        "  ## data probability given class predictions and model params: log Pr[x|y,model]\n",
        "\n",
        "  diff = tf.expand_dims(X_t,axis=1) - tf.expand_dims(centers,0) # [n_rows,n_clusters,n_features]\n",
        "  X_logp = tf.reduce_sum(logp_func(diff),axis=2) # [n_rows,n_clusters]\n",
        "\n",
        "  ## optimize params given class predictions: log Pr[x|y]\n",
        "\n",
        "  loglike = tf.reduce_logsumexp(y_logp + X_logp,axis=1) # [n_rows]\n",
        "  neg_loglike = -tf.reduce_mean(loglike) # []\n",
        "  optimizer = tf.train.AdamOptimizer()\n",
        "  mstep = optimizer.minimize(neg_loglike)\n",
        "\n",
        "  ## optimize class predictions given params via Bayes: Pr[y|x] := Pr[x|y]Pr[y] / Pr[x] \n",
        "\n",
        "  y_logp_new = X_logp+y_logp - tf.reduce_logsumexp(X_logp+y_logp,axis=1,keepdims=True)\n",
        "  estep = tf.assign(y_logp,y_logp_new)\n",
        "\n",
        "  init_op = tf.global_variables_initializer()\n",
        "\n",
        "  return X_t,y_logp,mstep,estep,neg_loglike"
      ],
      "execution_count": 1,
      "outputs": [
        {
          "output_type": "stream",
          "text": [
            "TensorFlow 1.x selected.\n"
          ],
          "name": "stdout"
        }
      ]
    },
    {
      "cell_type": "markdown",
      "metadata": {
        "id": "bxklOEcryN2R"
      },
      "source": [
        "# Tests\n",
        "\n",
        "\n",
        "We demonstrate improvements when using Huber loss for clustering, \n",
        "on some standard clustering benchmarks."
      ]
    },
    {
      "cell_type": "code",
      "metadata": {
        "id": "OdkT65JiyPew"
      },
      "source": [
        "import numpy as np\n",
        "import pandas as pd\n",
        "from sklearn.cluster import KMeans\n",
        "from sklearn.metrics.cluster import adjusted_rand_score"
      ],
      "execution_count": 2,
      "outputs": []
    },
    {
      "cell_type": "markdown",
      "metadata": {
        "id": "-z2xtRHhybVX"
      },
      "source": [
        "## User Knowledge Dataset\n"
      ]
    },
    {
      "cell_type": "code",
      "metadata": {
        "colab": {
          "base_uri": "https://localhost:8080/"
        },
        "id": "sMdhzvLTywP0",
        "outputId": "7189e30a-c6e2-4e8a-ed3d-9cf4024e4130"
      },
      "source": [
        "## download and prepare data\n",
        "\n",
        "!mkdir /content/user_knowledge\n",
        "!curl -o /content/user_knowledge/data.xls 'https://archive.ics.uci.edu/ml/machine-learning-databases/00257/Data_User_Modeling_Dataset_Hamdi%20Tolga%20KAHRAMAN.xls'\n",
        "X=pd.read_excel('user_knowledge/data.xls',sheet_name=1)\n",
        "X=X[X.columns[:6]]\n",
        "print(X)\n",
        "X=X.to_numpy()\n",
        "X,y=X[:,:-1],X[:,-1]\n",
        "X=X.astype('float')\n",
        "encode_dict={v:k for k,v in enumerate(np.unique(y))}\n",
        "y=np.array(list(encode_dict[i] for i in y))\n",
        "X=(X-X.mean(0))/X.std(0)"
      ],
      "execution_count": 3,
      "outputs": [
        {
          "output_type": "stream",
          "text": [
            "mkdir: cannot create directory ‘/content/user_knowledge’: File exists\n",
            "  % Total    % Received % Xferd  Average Speed   Time    Time     Time  Current\n",
            "                                 Dload  Upload   Total   Spent    Left  Speed\n",
            "100 57856  100 57856    0     0   136k      0 --:--:-- --:--:-- --:--:--  136k\n",
            "      STG   SCG   STR   LPR   PEG       UNS\n",
            "0    0.00  0.00  0.00  0.00  0.00  very_low\n",
            "1    0.08  0.08  0.10  0.24  0.90      High\n",
            "2    0.06  0.06  0.05  0.25  0.33       Low\n",
            "3    0.10  0.10  0.15  0.65  0.30    Middle\n",
            "4    0.08  0.08  0.08  0.98  0.24       Low\n",
            "..    ...   ...   ...   ...   ...       ...\n",
            "253  0.61  0.78  0.69  0.92  0.58      High\n",
            "254  0.78  0.61  0.71  0.19  0.60    Middle\n",
            "255  0.54  0.82  0.71  0.29  0.77      High\n",
            "256  0.50  0.75  0.81  0.61  0.26    Middle\n",
            "257  0.66  0.90  0.76  0.87  0.74      High\n",
            "\n",
            "[258 rows x 6 columns]\n"
          ],
          "name": "stdout"
        }
      ]
    },
    {
      "cell_type": "code",
      "metadata": {
        "colab": {
          "base_uri": "https://localhost:8080/"
        },
        "id": "SHQA_v2Ey2Q5",
        "outputId": "abdbc75d-f4f5-4d9c-ffd7-b562c2a7e4b0"
      },
      "source": [
        "## cluster by KMeans\n",
        "\n",
        "np.random.seed(123)\n",
        "y_pred = KMeans(n_clusters=len(np.unique(y)),n_init=10).fit_predict(X)\n",
        "adjusted_rand_score(y,y_pred)"
      ],
      "execution_count": 4,
      "outputs": [
        {
          "output_type": "execute_result",
          "data": {
            "text/plain": [
              "0.16055981705877584"
            ]
          },
          "metadata": {
            "tags": []
          },
          "execution_count": 4
        }
      ]
    },
    {
      "cell_type": "code",
      "metadata": {
        "colab": {
          "base_uri": "https://localhost:8080/",
          "height": 487
        },
        "id": "gSIgUF6hy9CB",
        "outputId": "5d4429eb-699c-4e6a-8b5d-fa0981ceada5"
      },
      "source": [
        "## cluster by Huber\n",
        "\n",
        "outs = []\n",
        "\n",
        "n_clusters=len(np.unique(y))\n",
        "n_rows,n_features = X.shape\n",
        "\n",
        "for _ in range(10):\n",
        "  \n",
        "  for logp_func in [logp_huber(0.25)]:\n",
        "\n",
        "    tf.reset_default_graph()\n",
        "    init = np.random.normal(size=(n_clusters,n_features)).astype(np.float32)\n",
        "    X_t,y_logp,mstep,estep,loglike = build_cluster_graph((n_rows,n_features),n_clusters,logp_func=logp_func,init=init)\n",
        "    init_op = tf.global_variables_initializer()\n",
        "\n",
        "    ## train\n",
        "    with tf.Session() as sess:\n",
        "      feed_dict = {X_t:X}\n",
        "      sess.run(init_op)\n",
        "      # do iterations\n",
        "      val = 0\n",
        "      for i in range(50):\n",
        "        # m step (many times to get close to maximum likelihood)\n",
        "        val_m = 0\n",
        "        for _ in range(1000):\n",
        "          _,val_m_new = sess.run([mstep,loglike],feed_dict=feed_dict)\n",
        "          if abs(val_m_new-val_m) < 1e-5:\n",
        "            break\n",
        "          else:\n",
        "            val_m = val_m_new\n",
        "        # e step (once as it is analytic)\n",
        "        sess.run(estep,feed_dict=feed_dict)\n",
        "\n",
        "      y_pred = sess.run(y_logp,feed_dict)\n",
        "\n",
        "    score = adjusted_rand_score(y,y_pred.argmax(1))\n",
        "    outs.append((logp_func.__name__,val_m,score))\n",
        "    \n",
        "outs = pd.DataFrame(outs,columns=['method','loglike','ARI'])\n",
        "print(outs.sort_values('loglike')[:2].mean())\n",
        "outs"
      ],
      "execution_count": 5,
      "outputs": [
        {
          "output_type": "stream",
          "text": [
            "WARNING:tensorflow:From /tensorflow-1.15.2/python3.6/tensorflow_core/python/ops/math_ops.py:2509: where (from tensorflow.python.ops.array_ops) is deprecated and will be removed in a future version.\n",
            "Instructions for updating:\n",
            "Use tf.where in 2.0, which has the same broadcast rule as np.where\n",
            "loglike    0.552995\n",
            "ARI        0.197560\n",
            "dtype: float64\n"
          ],
          "name": "stdout"
        },
        {
          "output_type": "execute_result",
          "data": {
            "text/html": [
              "<div>\n",
              "<style scoped>\n",
              "    .dataframe tbody tr th:only-of-type {\n",
              "        vertical-align: middle;\n",
              "    }\n",
              "\n",
              "    .dataframe tbody tr th {\n",
              "        vertical-align: top;\n",
              "    }\n",
              "\n",
              "    .dataframe thead th {\n",
              "        text-align: right;\n",
              "    }\n",
              "</style>\n",
              "<table border=\"1\" class=\"dataframe\">\n",
              "  <thead>\n",
              "    <tr style=\"text-align: right;\">\n",
              "      <th></th>\n",
              "      <th>method</th>\n",
              "      <th>loglike</th>\n",
              "      <th>ARI</th>\n",
              "    </tr>\n",
              "  </thead>\n",
              "  <tbody>\n",
              "    <tr>\n",
              "      <th>0</th>\n",
              "      <td>logp_huber</td>\n",
              "      <td>0.561601</td>\n",
              "      <td>0.132474</td>\n",
              "    </tr>\n",
              "    <tr>\n",
              "      <th>1</th>\n",
              "      <td>logp_huber</td>\n",
              "      <td>0.552683</td>\n",
              "      <td>0.178530</td>\n",
              "    </tr>\n",
              "    <tr>\n",
              "      <th>2</th>\n",
              "      <td>logp_huber</td>\n",
              "      <td>0.555267</td>\n",
              "      <td>0.177655</td>\n",
              "    </tr>\n",
              "    <tr>\n",
              "      <th>3</th>\n",
              "      <td>logp_huber</td>\n",
              "      <td>0.553710</td>\n",
              "      <td>0.178274</td>\n",
              "    </tr>\n",
              "    <tr>\n",
              "      <th>4</th>\n",
              "      <td>logp_huber</td>\n",
              "      <td>0.554309</td>\n",
              "      <td>0.134360</td>\n",
              "    </tr>\n",
              "    <tr>\n",
              "      <th>5</th>\n",
              "      <td>logp_huber</td>\n",
              "      <td>0.556716</td>\n",
              "      <td>0.187721</td>\n",
              "    </tr>\n",
              "    <tr>\n",
              "      <th>6</th>\n",
              "      <td>logp_huber</td>\n",
              "      <td>0.556431</td>\n",
              "      <td>0.174161</td>\n",
              "    </tr>\n",
              "    <tr>\n",
              "      <th>7</th>\n",
              "      <td>logp_huber</td>\n",
              "      <td>0.563748</td>\n",
              "      <td>0.102345</td>\n",
              "    </tr>\n",
              "    <tr>\n",
              "      <th>8</th>\n",
              "      <td>logp_huber</td>\n",
              "      <td>0.553306</td>\n",
              "      <td>0.216591</td>\n",
              "    </tr>\n",
              "    <tr>\n",
              "      <th>9</th>\n",
              "      <td>logp_huber</td>\n",
              "      <td>0.565495</td>\n",
              "      <td>0.139099</td>\n",
              "    </tr>\n",
              "  </tbody>\n",
              "</table>\n",
              "</div>"
            ],
            "text/plain": [
              "       method   loglike       ARI\n",
              "0  logp_huber  0.561601  0.132474\n",
              "1  logp_huber  0.552683  0.178530\n",
              "2  logp_huber  0.555267  0.177655\n",
              "3  logp_huber  0.553710  0.178274\n",
              "4  logp_huber  0.554309  0.134360\n",
              "5  logp_huber  0.556716  0.187721\n",
              "6  logp_huber  0.556431  0.174161\n",
              "7  logp_huber  0.563748  0.102345\n",
              "8  logp_huber  0.553306  0.216591\n",
              "9  logp_huber  0.565495  0.139099"
            ]
          },
          "metadata": {
            "tags": []
          },
          "execution_count": 5
        }
      ]
    },
    {
      "cell_type": "markdown",
      "metadata": {
        "id": "FJtM_bup0lV2"
      },
      "source": [
        "## Mice Protein Nuclear Dataset"
      ]
    },
    {
      "cell_type": "code",
      "metadata": {
        "colab": {
          "base_uri": "https://localhost:8080/"
        },
        "id": "WZbNEo250n_x",
        "outputId": "79ab02a6-7708-472b-d918-3e64a49d03fa"
      },
      "source": [
        "## download and prepare data\n",
        "\n",
        "!mkdir /content/mice\n",
        "!curl -o /content/mice/data.xls 'https://archive.ics.uci.edu/ml/machine-learning-databases/00342/Data_Cortex_Nuclear.xls'\n",
        "\n",
        "X=pd.read_excel('mice/data.xls')\n",
        "# do one-hot-encoding for categorical data\n",
        "print(X.head())\n",
        "for c in X.columns[X.dtypes=='object']:\n",
        "  encode_dict = {v:k for k,v in enumerate(X[c].unique())}\n",
        "  X[c] = X[c].apply(encode_dict.get)\n",
        "# fill missing data\n",
        "X = X.fillna(X.median())\n",
        "X = X.to_numpy()\n",
        "X,y = X[:,:-1],X[:,-1]\n",
        "X = (X-X.mean(0))/X.std(0)"
      ],
      "execution_count": 6,
      "outputs": [
        {
          "output_type": "stream",
          "text": [
            "  % Total    % Received % Xferd  Average Speed   Time    Time     Time  Current\n",
            "                                 Dload  Upload   Total   Spent    Left  Speed\n",
            "100 1590k  100 1590k    0     0  2005k      0 --:--:-- --:--:-- --:--:-- 2003k\n",
            "  MouseID  DYRK1A_N   ITSN1_N    BDNF_N  ...  Genotype  Treatment  Behavior   class\n",
            "0   309_1  0.503644  0.747193  0.430175  ...   Control  Memantine       C/S  c-CS-m\n",
            "1   309_2  0.514617  0.689064  0.411770  ...   Control  Memantine       C/S  c-CS-m\n",
            "2   309_3  0.509183  0.730247  0.418309  ...   Control  Memantine       C/S  c-CS-m\n",
            "3   309_4  0.442107  0.617076  0.358626  ...   Control  Memantine       C/S  c-CS-m\n",
            "4   309_5  0.434940  0.617430  0.358802  ...   Control  Memantine       C/S  c-CS-m\n",
            "\n",
            "[5 rows x 82 columns]\n"
          ],
          "name": "stdout"
        }
      ]
    },
    {
      "cell_type": "code",
      "metadata": {
        "colab": {
          "base_uri": "https://localhost:8080/"
        },
        "id": "0cMrSNRZ0ynR",
        "outputId": "b228393f-adf5-4c5b-cee3-2fdd975574b3"
      },
      "source": [
        "## cluster by KMeans\n",
        "\n",
        "np.random.seed(123)\n",
        "y_pred = KMeans(n_clusters=len(np.unique(y)),n_init=10).fit_predict(X)\n",
        "adjusted_rand_score(y,y_pred)"
      ],
      "execution_count": 7,
      "outputs": [
        {
          "output_type": "execute_result",
          "data": {
            "text/plain": [
              "0.1437098069247538"
            ]
          },
          "metadata": {
            "tags": []
          },
          "execution_count": 7
        }
      ]
    },
    {
      "cell_type": "code",
      "metadata": {
        "colab": {
          "base_uri": "https://localhost:8080/",
          "height": 415
        },
        "id": "C4zDriha002Q",
        "outputId": "7b16a81c-5cb1-427f-b491-c7d3f4f725b6"
      },
      "source": [
        "## cluster by Huber\n",
        "\n",
        "outs = []\n",
        "\n",
        "n_clusters=len(np.unique(y))\n",
        "n_rows,n_features = X.shape\n",
        "\n",
        "for _ in range(10):\n",
        "  \n",
        "  for logp_func in [logp_huber(0.25)]:\n",
        "\n",
        "    tf.reset_default_graph()\n",
        "    init = np.random.normal(size=(n_clusters,n_features)).astype(np.float32)\n",
        "    X_t,y_logp,mstep,estep,loglike = build_cluster_graph((n_rows,n_features),n_clusters,logp_func=logp_func,init=init)\n",
        "    init_op = tf.global_variables_initializer()\n",
        "\n",
        "    ## train\n",
        "    with tf.Session() as sess:\n",
        "      feed_dict = {X_t:X}\n",
        "      sess.run(init_op)\n",
        "      # do iterations\n",
        "      val = 0\n",
        "      for i in range(50):\n",
        "        # m step (many times to get close to maximum likelihood)\n",
        "        val_m = 0\n",
        "        for _ in range(1000):\n",
        "          _,val_m_new = sess.run([mstep,loglike],feed_dict=feed_dict)\n",
        "          if abs(val_m_new-val_m) < 1e-5:\n",
        "            break\n",
        "          else:\n",
        "            val_m = val_m_new\n",
        "        # e step (once as it is analytic)\n",
        "        sess.run(estep,feed_dict=feed_dict)\n",
        "\n",
        "      y_pred = sess.run(y_logp,feed_dict)\n",
        "\n",
        "    score = adjusted_rand_score(y,y_pred.argmax(1))\n",
        "    outs.append((logp_func.__name__,val_m,score))\n",
        "    \n",
        "outs = pd.DataFrame(outs,columns=['method','loglike','ARI'])\n",
        "print(outs.sort_values('loglike')[:2].mean())\n",
        "outs"
      ],
      "execution_count": 8,
      "outputs": [
        {
          "output_type": "stream",
          "text": [
            "loglike    8.102389\n",
            "ARI        0.192036\n",
            "dtype: float64\n"
          ],
          "name": "stdout"
        },
        {
          "output_type": "execute_result",
          "data": {
            "text/html": [
              "<div>\n",
              "<style scoped>\n",
              "    .dataframe tbody tr th:only-of-type {\n",
              "        vertical-align: middle;\n",
              "    }\n",
              "\n",
              "    .dataframe tbody tr th {\n",
              "        vertical-align: top;\n",
              "    }\n",
              "\n",
              "    .dataframe thead th {\n",
              "        text-align: right;\n",
              "    }\n",
              "</style>\n",
              "<table border=\"1\" class=\"dataframe\">\n",
              "  <thead>\n",
              "    <tr style=\"text-align: right;\">\n",
              "      <th></th>\n",
              "      <th>method</th>\n",
              "      <th>loglike</th>\n",
              "      <th>ARI</th>\n",
              "    </tr>\n",
              "  </thead>\n",
              "  <tbody>\n",
              "    <tr>\n",
              "      <th>0</th>\n",
              "      <td>logp_huber</td>\n",
              "      <td>8.148839</td>\n",
              "      <td>0.196426</td>\n",
              "    </tr>\n",
              "    <tr>\n",
              "      <th>1</th>\n",
              "      <td>logp_huber</td>\n",
              "      <td>8.078822</td>\n",
              "      <td>0.198950</td>\n",
              "    </tr>\n",
              "    <tr>\n",
              "      <th>2</th>\n",
              "      <td>logp_huber</td>\n",
              "      <td>8.155883</td>\n",
              "      <td>0.180153</td>\n",
              "    </tr>\n",
              "    <tr>\n",
              "      <th>3</th>\n",
              "      <td>logp_huber</td>\n",
              "      <td>8.132080</td>\n",
              "      <td>0.219714</td>\n",
              "    </tr>\n",
              "    <tr>\n",
              "      <th>4</th>\n",
              "      <td>logp_huber</td>\n",
              "      <td>8.154950</td>\n",
              "      <td>0.187463</td>\n",
              "    </tr>\n",
              "    <tr>\n",
              "      <th>5</th>\n",
              "      <td>logp_huber</td>\n",
              "      <td>8.228038</td>\n",
              "      <td>0.165376</td>\n",
              "    </tr>\n",
              "    <tr>\n",
              "      <th>6</th>\n",
              "      <td>logp_huber</td>\n",
              "      <td>8.196463</td>\n",
              "      <td>0.155176</td>\n",
              "    </tr>\n",
              "    <tr>\n",
              "      <th>7</th>\n",
              "      <td>logp_huber</td>\n",
              "      <td>8.125957</td>\n",
              "      <td>0.185122</td>\n",
              "    </tr>\n",
              "    <tr>\n",
              "      <th>8</th>\n",
              "      <td>logp_huber</td>\n",
              "      <td>8.261502</td>\n",
              "      <td>0.158310</td>\n",
              "    </tr>\n",
              "    <tr>\n",
              "      <th>9</th>\n",
              "      <td>logp_huber</td>\n",
              "      <td>8.127641</td>\n",
              "      <td>0.180094</td>\n",
              "    </tr>\n",
              "  </tbody>\n",
              "</table>\n",
              "</div>"
            ],
            "text/plain": [
              "       method   loglike       ARI\n",
              "0  logp_huber  8.148839  0.196426\n",
              "1  logp_huber  8.078822  0.198950\n",
              "2  logp_huber  8.155883  0.180153\n",
              "3  logp_huber  8.132080  0.219714\n",
              "4  logp_huber  8.154950  0.187463\n",
              "5  logp_huber  8.228038  0.165376\n",
              "6  logp_huber  8.196463  0.155176\n",
              "7  logp_huber  8.125957  0.185122\n",
              "8  logp_huber  8.261502  0.158310\n",
              "9  logp_huber  8.127641  0.180094"
            ]
          },
          "metadata": {
            "tags": []
          },
          "execution_count": 8
        }
      ]
    }
  ]
}